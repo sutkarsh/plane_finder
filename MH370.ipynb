{
 "metadata": {
  "name": "",
  "signature": "sha256:dac620fd0d67357526641de1dc8aba8644c94ac6afe33e3cd1cafbb90d2e79c8"
 },
 "nbformat": 3,
 "nbformat_minor": 0,
 "worksheets": [
  {
   "cells": [
    {
     "cell_type": "code",
     "collapsed": false,
     "input": [
      "import numpy as np\n",
      "import numpy.random\n",
      "import matplotlib.pyplot as plt\n",
      "import functools, random\n",
      "import math\n",
      "pi = math.pi\n",
      "\n",
      "n = 10000\n",
      "\n",
      "drift_theta_sd = pi/200\n",
      "drift_theta_avg = 0\n",
      "p_drift = 0.5 # P(Navigation going wild)\n",
      "\n",
      "avg_time = 500\n",
      "time_sd =30\n",
      "max_time = 1000\n",
      "velocity = 10\n",
      "intentional_theta_change = lambda x,y : 0 #pi/avg_dis"
     ],
     "language": "python",
     "metadata": {},
     "outputs": [],
     "prompt_number": 41
    },
    {
     "cell_type": "code",
     "collapsed": true,
     "input": [
      "def generate_random_list(average, sd, length, mini = 0, maxi = 10000000000):\n",
      "    g_one = functools.partial(random.gauss, average, sd)\n",
      "    a = []\n",
      "    while len(a)<length:\n",
      "        x = g_one()\n",
      "        if mini< x< maxi:\n",
      "            a.append(x)\n",
      "    return a"
     ],
     "language": "python",
     "metadata": {},
     "outputs": [],
     "prompt_number": 42
    },
    {
     "cell_type": "code",
     "collapsed": false,
     "input": [
      "def calc_path(path_time, velocity, drift_theta_sd, drift_true): #creates one path every time it's called\n",
      "    x = 0\n",
      "    y = 0\n",
      "    theta = 0\n",
      "    for i in range(path_time):\n",
      "        y+= math.cos(theta)*velocity\n",
      "        x+= math.sin(theta)*velocity\n",
      "        theta+= int(drift_true)*functools.partial(random.gauss, drift_theta_avg, drift_theta_sd)() + intentional_theta_change(x,y)\n",
      "    return x, y\n",
      "def generate_paths(n): # runs calc_path lots of time\n",
      "    drift_true = random.random() < p_drift\n",
      "    x_list = []\n",
      "    y_list = []\n",
      "    for path_time in generate_random_list(avg_time, time_sd, n, 0, max_time):\n",
      "        path_time = int(path_time)\n",
      "        x,y = calc_path(path_time, velocity, theta_sd, drift_true)\n",
      "        x_list.append(x)\n",
      "        y_list.append(y)\n",
      "    return numpy.asarray(x_list), numpy.asarray(y_list)"
     ],
     "language": "python",
     "metadata": {},
     "outputs": [],
     "prompt_number": 43
    },
    {
     "cell_type": "code",
     "collapsed": false,
     "input": [
      "x, y = generate_paths(10000)\n",
      "heatmap, xedges, yedges = np.histogram2d(x, y, bins=50)\n",
      "extent = [xedges[0], xedges[-1], yedges[0], yedges[-1]]\n",
      "\n",
      "plt.clf()\n",
      "plt.imshow(heatmap, extent=extent)\n",
      "plt.colorbar()\n",
      "plt.show()"
     ],
     "language": "python",
     "metadata": {},
     "outputs": [],
     "prompt_number": 44
    },
    {
     "cell_type": "code",
     "collapsed": false,
     "input": [],
     "language": "python",
     "metadata": {},
     "outputs": [],
     "prompt_number": 30
    },
    {
     "cell_type": "code",
     "collapsed": false,
     "input": [],
     "language": "python",
     "metadata": {},
     "outputs": [
      {
       "metadata": {},
       "output_type": "pyout",
       "prompt_number": 46,
       "text": [
        "0"
       ]
      }
     ],
     "prompt_number": 46
    },
    {
     "cell_type": "code",
     "collapsed": false,
     "input": [],
     "language": "python",
     "metadata": {},
     "outputs": []
    }
   ],
   "metadata": {}
  }
 ]
}