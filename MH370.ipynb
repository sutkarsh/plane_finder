{
 "metadata": {
  "name": "",
  "signature": "sha256:dd898da352f5bb8b71823309bdfc763f533fe193ac52425fc0800597b20b01f5"
 },
 "nbformat": 3,
 "nbformat_minor": 0,
 "worksheets": [
  {
   "cells": [
    {
     "cell_type": "code",
     "collapsed": false,
     "input": [
      "import numpy.random\n",
      "from scipy import stats\n",
      "import matplotlib.pyplot as plt\n",
      "import functools, random\n",
      "import math\n",
      "pi = math.pi\n",
      "\n",
      "n = 10000\n",
      "\n",
      "drift_theta_sd = pi/200\n",
      "drift_theta_avg = 0\n",
      "p_drift = 1 # P(Navigation going wild)\n",
      "calc_drift = lambda x,y: int(random.random() < p_drift)*functools.partial(random.gauss, drift_theta_avg, drift_theta_sd)()\n",
      "\n",
      "time_func = lambda n: stats.rv_discrete(name='time_func', values=(numpy.arange(n), pk))\n",
      "\n",
      "avg_time = 500\n",
      "time_sd =30\n",
      "max_time = 1000\n",
      "time_func = lambda n: generate_random_list(avg_time, time_sd, n, 0, max_time)\n",
      "velocity = lambda x,y: 10\n",
      "\n",
      "intentional_theta_change = lambda x,y : 0 #pi/avg_dis"
     ],
     "language": "python",
     "metadata": {},
     "outputs": [],
     "prompt_number": 72
    },
    {
     "cell_type": "code",
     "collapsed": true,
     "input": [
      "def generate_random_list(average, sd, length, mini = 0, maxi = 10000000000):\n",
      "    g_one = functools.partial(random.gauss, average, sd)\n",
      "    a = []\n",
      "    while len(a)<length:\n",
      "        x = g_one()\n",
      "        if mini< x< maxi:\n",
      "            a.append(x)\n",
      "    return a"
     ],
     "language": "python",
     "metadata": {},
     "outputs": [],
     "prompt_number": 73
    },
    {
     "cell_type": "code",
     "collapsed": false,
     "input": [
      "def calc_path(path_time): #creates one path every time it's called\n",
      "    x = 0\n",
      "    y = 0\n",
      "    theta = 0\n",
      "    for i in range(path_time):\n",
      "        y+= math.cos(theta)*velocity(x,y)\n",
      "        x+= math.sin(theta)*velocity(x,y)\n",
      "        theta+= calc_drift(x,y) + intentional_theta_change(x,y)\n",
      "    return x, y\n",
      "def generate_paths(n): # runs calc_path lots of time\n",
      "    x_list = []\n",
      "    y_list = []\n",
      "    for path_time in time_func(n):\n",
      "        path_time = int(path_time)\n",
      "        crash_x,crash_y = calc_path(path_time)\n",
      "        x_list.append(crash_x)\n",
      "        y_list.append(crash_y)\n",
      "    return numpy.asarray(x_list), numpy.asarray(y_list)"
     ],
     "language": "python",
     "metadata": {},
     "outputs": [],
     "prompt_number": 74
    },
    {
     "cell_type": "code",
     "collapsed": false,
     "input": [
      "x, y = generate_paths(10000)\n",
      "heatmap, xedges, yedges = numpy.histogram2d(x, y, bins=50)\n",
      "extent = [xedges[0], xedges[-1], yedges[0], yedges[-1]]\n",
      "\n",
      "plt.clf()\n",
      "plt.imshow(heatmap, extent=extent)\n",
      "plt.colorbar()\n",
      "plt.show()"
     ],
     "language": "python",
     "metadata": {},
     "outputs": [],
     "prompt_number": 75
    },
    {
     "cell_type": "code",
     "collapsed": false,
     "input": [],
     "language": "python",
     "metadata": {},
     "outputs": [],
     "prompt_number": 64
    },
    {
     "cell_type": "code",
     "collapsed": false,
     "input": [],
     "language": "python",
     "metadata": {},
     "outputs": [
      {
       "metadata": {},
       "output_type": "pyout",
       "prompt_number": 46,
       "text": [
        "0"
       ]
      }
     ],
     "prompt_number": 46
    },
    {
     "cell_type": "code",
     "collapsed": false,
     "input": [],
     "language": "python",
     "metadata": {},
     "outputs": []
    }
   ],
   "metadata": {}
  }
 ]
}