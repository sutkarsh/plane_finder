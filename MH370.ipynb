{
 "metadata": {
  "name": "",
  "signature": "sha256:9616b349d9aa3b5865eb7f650a793483897b16cd4893b115994079dd7bf10cf9"
 },
 "nbformat": 3,
 "nbformat_minor": 0,
 "worksheets": [
  {
   "cells": [
    {
     "cell_type": "code",
     "collapsed": false,
     "input": [
      "import numpy.random\n",
      "from scipy import stats\n",
      "import matplotlib.pyplot as plt\n",
      "import functools, random\n",
      "import math\n",
      "pi = math.pi\n",
      "\n",
      "n = 10000\n",
      "\n",
      "drift_theta_sd = pi/200\n",
      "drift_theta_avg = 0\n",
      "p_drift = 0.1 # P(Navigation going wild)\n",
      "\n",
      "calc_drift = lambda x,y, pero: int(random.random() < p_drift)*pero\n",
      "#calc_drift = lambda x,y,pero: int(random.random() < p_drift)*functools.partial(random.gauss, drift_theta_avg, drift_theta_sd)()\n",
      "\n",
      "time_func = lambda n: stats.rv_discrete(name='time_func', values=(numpy.arange(n), p_of_t))\n",
      "\n",
      "avg_time = 5000\n",
      "time_sd =1000\n",
      "max_time = 1000\n",
      "time_func = lambda n: generate_random_list(avg_time, time_sd, n, 0, max_time)\n",
      "velocity = lambda x,y: 10\n",
      "\n",
      "intentional_theta_change = lambda x,y : 0 #pi/avg_dis"
     ],
     "language": "python",
     "metadata": {},
     "outputs": [],
     "prompt_number": 98
    },
    {
     "cell_type": "code",
     "collapsed": true,
     "input": [
      "def generate_random_list(average, sd, length, mini = 0, maxi = 10000000000):\n",
      "    g_one = functools.partial(random.gauss, average, sd)\n",
      "    a = []\n",
      "    while len(a)<length:\n",
      "        x = g_one()\n",
      "        if mini< x< maxi:\n",
      "            a.append(x)\n",
      "    return a"
     ],
     "language": "python",
     "metadata": {},
     "outputs": [],
     "prompt_number": 78
    },
    {
     "cell_type": "code",
     "collapsed": false,
     "input": [
      "def calc_path(path_time): #creates one path every time it's called\n",
      "    x = 0\n",
      "    y = 0\n",
      "    theta = 0\n",
      "    pero = functools.partial(random.gauss, drift_theta_avg, drift_theta_sd)()\n",
      "    for i in range(path_time):\n",
      "        y+= math.cos(theta)*velocity(x,y)\n",
      "        x+= math.sin(theta)*velocity(x,y)\n",
      "        theta+= calc_drift(x,y, pero) + intentional_theta_change(x,y)\n",
      "    return x, y\n",
      "def generate_paths(n): # runs calc_path lots of time\n",
      "    x_list = []\n",
      "    y_list = []\n",
      "    for path_time in time_func(n):\n",
      "        path_time = int(path_time)\n",
      "        crash_x,crash_y = calc_path(path_time)\n",
      "        x_list.append(crash_x)\n",
      "        y_list.append(crash_y)\n",
      "    return numpy.asarray(x_list), numpy.asarray(y_list)"
     ],
     "language": "python",
     "metadata": {},
     "outputs": [],
     "prompt_number": 79
    },
    {
     "cell_type": "code",
     "collapsed": false,
     "input": [
      "x, y = generate_paths(n)\n",
      "heatmap, xedges, yedges = numpy.histogram2d(x, y, bins=50)\n",
      "extent = [xedges[0], xedges[-1], 0, yedges[-1]]\n",
      "plt.clf()\n",
      "plt.imshow(heatmap, extent=extent)\n",
      "plt.colorbar()\n",
      "plt.show()"
     ],
     "language": "python",
     "metadata": {},
     "outputs": [],
     "prompt_number": 80
    },
    {
     "cell_type": "code",
     "collapsed": false,
     "input": [
      "# t = numpy.arange(1000)\n",
      "# x_t= 100\n",
      "# z_t = 10\n",
      "# a_t = 1\n",
      "# b_t = 1\n",
      "# c_t = 1\n",
      "# e_t = 1\n",
      "# p = lambda t: a_t/t + b_t/(t**x_t) + c_t/(t**z_t) + (t**2)/(e_t**2)\n",
      "# plt.plot(t, p(t),'ro', markersize=1)\n",
      "# plt.show()"
     ],
     "language": "python",
     "metadata": {},
     "outputs": [],
     "prompt_number": 27
    },
    {
     "cell_type": "code",
     "collapsed": false,
     "input": [
      "t = numpy.arange(n)\n",
      "a = 1/1000\n",
      "b = 500/a\n",
      "time_sd_new = 1000*time_sd\n",
      "p_of_t = 0.57*(math.e**(-a*t)) + b*(math.e**((-(t-avg_time)**2)/(2*time_sd_new)))/(time_sd_new*math.sqrt(2*math.pi))\n",
      "plt.plot(t, p_of_t,'ro', markersize=1)\n",
      "plt.show()"
     ],
     "language": "python",
     "metadata": {},
     "outputs": [],
     "prompt_number": 123
    }
   ],
   "metadata": {}
  }
 ]
}